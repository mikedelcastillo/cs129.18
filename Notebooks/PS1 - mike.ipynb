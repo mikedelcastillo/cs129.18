{
 "cells": [
  {
   "cell_type": "markdown",
   "metadata": {},
   "source": [
    "# Problem Set 1 CS129.18\n",
    "\n",
    "The following problem set will revolve around hourly Philippine weather data observations from 1978 to 2018 sourced from NOAA (National Oceanic and Atmospheric Administration). \n",
    "\n",
    "The dataset `PH_Weather_v1.csv` has **11** columns. The columns are described as follows.\n",
    "\n",
    "* **datetime** maps to a YYYYMMDDSSSS string datetime format.\n",
    "* **wind_direction** represents the recorded compass direction of the wind. \n",
    "* **wind_speed** is the wind speed recorded in MPH.\n",
    "* **gust_speed** is the gust speed recorded in MPH. NAN if no recording.\n",
    "* **sea_level_pressure** is sea level pressure in millibars estimated to the nearest tenth.\n",
    "* **temperature** is the recorded temperature in celsius.\n",
    "* **altitude** is the station altimeter recording in inches. NAN if no recording.\n",
    "* **precipitation** is the station hourly precipitation report in inches. NAN if no recording.\n",
    "* **clouds** is the station observed cloud report.\n",
    "    * CLR-CLEAR \n",
    "    * SCT-SCATTERED\n",
    "    * BKN-BROKEN\n",
    "    * OVC-OVERCAST, \n",
    "    * OBS-OBSCURED\n",
    "    * POB-PARTIAL OBSCURATION \n",
    "* **visibility** is the station observed visibility in miles\n",
    "* **humidity** is the station observed relative humidity"
   ]
  },
  {
   "cell_type": "markdown",
   "metadata": {},
   "source": [
    "## Requirements\n",
    "\n",
    "\n",
    ">Atmospheric Science is a complex system that works with factors that interact with each other. We might be able use these variables to estimate the value of one of the key indicators: Temperature.\n",
    "\n",
    "Using the lessons on Linear Regression I and II, and the other resource notebooks, show the following in this Jupyter Notebook.\n",
    "\n",
    "Write your answers down as Markdown cells or comments in the code.\n",
    "\n",
    "1. What is the dimensionality or shape of the data? ( 1pt )\n",
    "\n",
    "2. What is mean temperature for the year 2017?\n",
    "\n",
    "3. Solve for the beta coefficients for the columns that you can use in your dataset to predict temperature.\n",
    "\n",
    "4. Show the relationship between the variable with the highest beta coefficient and temperature (Use a plot).\n",
    "\n",
    "5. Solve for the Mean Squared Error of your predicted temperature against the actual temperature.\n",
    "\n",
    "6. Solve for the R^2 score of the linear model used to predict temperature.\n",
    "\n",
    "7. Identify if the model is a good model and why.\n",
    "\n",
    "\n",
    "\n",
    "-----\n",
    "\n",
    "\n",
    "Bonus 1 : What is your name?\n",
    "\n",
    "If **you're the only one in the class** that answers Bonus 1, **only you** get **5 points**. \n",
    "\n",
    "If **everyone in the class** answers Bonus 1, **you all** get **0 points**.\n",
    "\n",
    "If **no one in the class** answers Bonus 1, **everyone** gets **2 points**.\n",
    "\n",
    "*Don't worry, your answer here will not be disclosed to the class*\n",
    "\n",
    "----\n",
    "\n",
    "**Submit this file on Moodle on the submission link I will provide. This is due September 13 12nn.**"
   ]
  },
  {
   "cell_type": "code",
   "execution_count": 1,
   "metadata": {},
   "outputs": [],
   "source": [
    "#Student: Mike del Casitllo, 151371, 4 BS ITE\n",
    "\n",
    "%matplotlib inline\n",
    "\n",
    "import matplotlib.pylab as plt\n",
    "import numpy as np\n",
    "import pandas as pd"
   ]
  },
  {
   "cell_type": "code",
   "execution_count": 2,
   "metadata": {},
   "outputs": [],
   "source": [
    "df = pd.read_csv(\"data/PH_Weather_v1.csv\")"
   ]
  },
  {
   "cell_type": "code",
   "execution_count": 3,
   "metadata": {},
   "outputs": [
    {
     "data": {
      "text/plain": [
       "(90565, 11)"
      ]
     },
     "execution_count": 3,
     "metadata": {},
     "output_type": "execute_result"
    }
   ],
   "source": [
    "#What is the dimensionality or shape of the data?\n",
    "df.shape"
   ]
  },
  {
   "cell_type": "code",
   "execution_count": 4,
   "metadata": {},
   "outputs": [
    {
     "data": {
      "text/plain": [
       "27.93335635359116"
      ]
     },
     "execution_count": 4,
     "metadata": {},
     "output_type": "execute_result"
    }
   ],
   "source": [
    "#What is mean temperature for the year 2017?\n",
    "twentyseventeen = df[df[\"datetime\"].astype(str).str.contains(\"^2017\")]\n",
    "                                                        #just found out regex\n",
    "                                                        #is supported yay huhu\n",
    "mean_temp_2017 = np.mean(twentyseventeen[\"temperature\"])\n",
    "mean_temp_2017"
   ]
  },
  {
   "cell_type": "code",
   "execution_count": 5,
   "metadata": {},
   "outputs": [
    {
     "data": {
      "text/html": [
       "<div>\n",
       "<style scoped>\n",
       "    .dataframe tbody tr th:only-of-type {\n",
       "        vertical-align: middle;\n",
       "    }\n",
       "\n",
       "    .dataframe tbody tr th {\n",
       "        vertical-align: top;\n",
       "    }\n",
       "\n",
       "    .dataframe thead th {\n",
       "        text-align: right;\n",
       "    }\n",
       "</style>\n",
       "<table border=\"1\" class=\"dataframe\">\n",
       "  <thead>\n",
       "    <tr style=\"text-align: right;\">\n",
       "      <th></th>\n",
       "      <th>0</th>\n",
       "      <th>1</th>\n",
       "    </tr>\n",
       "  </thead>\n",
       "  <tbody>\n",
       "    <tr>\n",
       "      <th>0</th>\n",
       "      <td>wind_direction</td>\n",
       "      <td>0.001711</td>\n",
       "    </tr>\n",
       "    <tr>\n",
       "      <th>1</th>\n",
       "      <td>wind_speed</td>\n",
       "      <td>0.086733</td>\n",
       "    </tr>\n",
       "    <tr>\n",
       "      <th>2</th>\n",
       "      <td>sea_level_pressure</td>\n",
       "      <td>-0.000075</td>\n",
       "    </tr>\n",
       "    <tr>\n",
       "      <th>3</th>\n",
       "      <td>visibility</td>\n",
       "      <td>0.104276</td>\n",
       "    </tr>\n",
       "    <tr>\n",
       "      <th>4</th>\n",
       "      <td>humidity</td>\n",
       "      <td>-10.864663</td>\n",
       "    </tr>\n",
       "  </tbody>\n",
       "</table>\n",
       "</div>"
      ],
      "text/plain": [
       "                    0          1\n",
       "0      wind_direction   0.001711\n",
       "1          wind_speed   0.086733\n",
       "2  sea_level_pressure  -0.000075\n",
       "3          visibility   0.104276\n",
       "4            humidity -10.864663"
      ]
     },
     "execution_count": 5,
     "metadata": {},
     "output_type": "execute_result"
    }
   ],
   "source": [
    "#Solve for the beta coefficients for the columns that you can use in your dataset to predict temperature.\n",
    "\n",
    "#tried to clean the numbers just in case\n",
    "df[\"wind_direction\"] = pd.to_numeric(df[\"wind_direction\"], errors=\"coerce\")\n",
    "df[\"wind_speed\"] = pd.to_numeric(df[\"wind_speed\"], errors=\"coerce\")\n",
    "df[\"gust_speed\"] = pd.to_numeric(df[\"gust_speed\"], errors=\"coerce\")\n",
    "df[\"sea_level_pressure\"] = pd.to_numeric(df[\"sea_level_pressure\"], errors=\"coerce\")\n",
    "df[\"temperature\"] = pd.to_numeric(df[\"temperature\"], errors=\"coerce\")\n",
    "df[\"precipitation\"] = pd.to_numeric(df[\"precipitation\"], errors=\"coerce\")\n",
    "df[\"visibility\"] = pd.to_numeric(df[\"visibility\"], errors=\"coerce\")\n",
    "df[\"humidity\"] = pd.to_numeric(df[\"humidity\"], errors=\"coerce\")\n",
    "\n",
    "#useless columns because they're all NaN: gust_speed, altitude, precipitation\n",
    "\n",
    "'''\n",
    "I decided only to take the columns below since \n",
    "categorical data including datetime may not\n",
    "be very significant on the data and in\n",
    "doing linear regression\n",
    "\n",
    "also I couldnt dropna so i just droped\n",
    "all the NaN :(\n",
    "'''\n",
    "\n",
    "# df = df.dropna()\n",
    "useful_columns = df[[\n",
    "    \"wind_direction\",\n",
    "    \"wind_speed\",\n",
    "    \"sea_level_pressure\",\n",
    "    \"temperature\",\n",
    "    \"visibility\",\n",
    "    \"humidity\",\n",
    "]]\n",
    "useful_columns = useful_columns.dropna()\n",
    "\n",
    "from sklearn.linear_model import LinearRegression\n",
    "\n",
    "X = useful_columns[[\n",
    "    \"wind_direction\",\n",
    "    \"wind_speed\",\n",
    "    \"sea_level_pressure\",\n",
    "#     \"temperature\",\n",
    "    \"visibility\",\n",
    "    \"humidity\",\n",
    "]]\n",
    "\n",
    "linear_model = LinearRegression()\n",
    "linear_model.fit(X, useful_columns[\"temperature\"])\n",
    "\n",
    "pd.DataFrame(list(zip(X.columns, linear_model.coef_)))"
   ]
  },
  {
   "cell_type": "code",
   "execution_count": 6,
   "metadata": {},
   "outputs": [
    {
     "data": {
      "text/plain": [
       "Text(0.5,1,'Relationship between Humidity and Temperature')"
      ]
     },
     "execution_count": 6,
     "metadata": {},
     "output_type": "execute_result"
    },
    {
     "data": {
      "image/png": "[encoded data removed]",
      "text/plain": [
       "<Figure size 720x576 with 1 Axes>"
      ]
     },
     "metadata": {},
     "output_type": "display_data"
    }
   ],
   "source": [
    "plt.style.use('fivethirtyeight')\n",
    "plt.figure(figsize=(10,8))\n",
    "\n",
    "plt.scatter(df[\"humidity\"], df[\"temperature\"])\n",
    "plt.xlabel(\"Humidity\")\n",
    "plt.ylabel(\"Temperature\")\n",
    "plt.title(\"Relationship between Humidity and Temperature\")"
   ]
  },
  {
   "cell_type": "code",
   "execution_count": 7,
   "metadata": {},
   "outputs": [
    {
     "data": {
      "text/plain": [
       "2.769320536176346"
      ]
     },
     "execution_count": 7,
     "metadata": {},
     "output_type": "execute_result"
    }
   ],
   "source": [
    "#Solve for the Mean Squared Error of your predicted temperature against the actual temperature.\n",
    "\n",
    "predictions = linear_model.predict(X)\n",
    "df[\"PRED\"] = predictions\n",
    "# df[[\"temperature\", \"PRED\"]]\n",
    "\n",
    "mean_squared_error = np.mean((df[\"temperature\"] - df[\"PRED\"]) ** 2)\n",
    "mean_squared_error"
   ]
  },
  {
   "cell_type": "code",
   "execution_count": 8,
   "metadata": {},
   "outputs": [
    {
     "data": {
      "text/plain": [
       "1.0"
      ]
     },
     "execution_count": 8,
     "metadata": {},
     "output_type": "execute_result"
    }
   ],
   "source": [
    "#Solve for the R^2 score of the linear model used to predict temperature.\n",
    "\n",
    "#omg i think this is how u do it right\n",
    "linear_model.score(X, df[\"PRED\"])"
   ]
  },
  {
   "cell_type": "code",
   "execution_count": 9,
   "metadata": {},
   "outputs": [
    {
     "data": {
      "text/plain": [
       "'\\nGiven the low mean squared error, this means that the model is a good model. \\nThis means that the predicted temperature is around 0 to 3 (not inclusive) \\ndegrees off from the actual temperature on average. \\n'"
      ]
     },
     "execution_count": 9,
     "metadata": {},
     "output_type": "execute_result"
    }
   ],
   "source": [
    "#Identify if the model is a good model and why.\n",
    "\n",
    "'''\n",
    "Given the low mean squared error, this means that the model is a good model. \n",
    "This means that the predicted temperature is around 0 to 3 (not inclusive) \n",
    "degrees off from the actual temperature on average. \n",
    "'''"
   ]
  },
  {
   "cell_type": "code",
   "execution_count": 10,
   "metadata": {},
   "outputs": [],
   "source": [
    "#I will not give my name for the bonus"
   ]
  }
 ],
 "metadata": {
  "kernelspec": {
   "display_name": "Python 3",
   "language": "python",
   "name": "python3"
  },
  "language_info": {
   "codemirror_mode": {
    "name": "ipython",
    "version": 3
   },
   "file_extension": ".py",
   "mimetype": "text/x-python",
   "name": "python",
   "nbconvert_exporter": "python",
   "pygments_lexer": "ipython3",
   "version": "3.6.5"
  }
 },
 "nbformat": 4,
 "nbformat_minor": 2
}
