{
 "cells": [
  {
   "cell_type": "code",
   "execution_count": 87,
   "metadata": {},
   "outputs": [],
   "source": [
    "import pandas as pd\n",
    "import numpy as np\n",
    "from sklearn.feature_extraction.text import TfidfVectorizer\n",
    "from sklearn.feature_extraction.text import CountVectorizer, TfidfTransformer\n",
    "from sklearn.model_selection import train_test_split, cross_val_score\n",
    "import warnings\n",
    "warnings.filterwarnings(\"ignore\")\n",
    "\n",
    "import seaborn as sns\n",
    "import matplotlib.pyplot as plt\n",
    "%matplotlib inline  "
   ]
  },
  {
   "cell_type": "code",
   "execution_count": 88,
   "metadata": {},
   "outputs": [],
   "source": [
    "e0 = \"Hi, we'd like to follow up on the project proposal by 5pm later. Please email us by then.\"\n",
    "e1 = \"It's raining in Metro Manila, we need to bring umbrellas. It'll be good to be prepared.\"\n",
    "e2 = \"I solemnly swear that I am up to no good.\"\n",
    "e3 = \"You won PHP 100000000 in the Super Lotto! Please give us your SSS ID and TIN information to claim.\"\n",
    "e4 = \"7 items from your Steam wishlist are on sale. Please click the link in your email.\"\n",
    "e5 = \"Someone once counseled not to dwell on the things you didn’t get after praying.\"\n",
    "e6 = \"A symbol of peace who saves people lives with a smile.\""
   ]
  },
  {
   "cell_type": "code",
   "execution_count": 89,
   "metadata": {},
   "outputs": [],
   "source": [
    "email_list = [e0,e1,e2,e3,e4,e5,e6]"
   ]
  },
  {
   "cell_type": "code",
   "execution_count": 90,
   "metadata": {},
   "outputs": [],
   "source": [
    "# instantiate the vectorizer object\n",
    "vectorizer = CountVectorizer(stop_words=\"english\")\n",
    "\n",
    "# convert the documents into a document-term matrix\n",
    "bag_of_words = vectorizer.fit_transform(email_list)"
   ]
  },
  {
   "cell_type": "code",
   "execution_count": 91,
   "metadata": {},
   "outputs": [
    {
     "data": {
      "text/plain": [
       "<7x46 sparse matrix of type '<class 'numpy.int64'>'\n",
       "\twith 48 stored elements in Compressed Sparse Row format>"
      ]
     },
     "execution_count": 91,
     "metadata": {},
     "output_type": "execute_result"
    }
   ],
   "source": [
    "bag_of_words"
   ]
  },
  {
   "cell_type": "code",
   "execution_count": 92,
   "metadata": {},
   "outputs": [],
   "source": [
    "def bag2df(bag, feat_names):\n",
    "    \n",
    "    # create an index for each row\n",
    "    doc_names = ['Doc{:d}'.format(idx) for idx, _ in enumerate(bag)]\n",
    "    df = pd.DataFrame(data=bag.toarray(), index=doc_names,\n",
    "                      columns=feat_names)\n",
    "    return(df)"
   ]
  },
  {
   "cell_type": "code",
   "execution_count": 93,
   "metadata": {},
   "outputs": [
    {
     "data": {
      "text/html": [
       "<div>\n",
       "<style scoped>\n",
       "    .dataframe tbody tr th:only-of-type {\n",
       "        vertical-align: middle;\n",
       "    }\n",
       "\n",
       "    .dataframe tbody tr th {\n",
       "        vertical-align: top;\n",
       "    }\n",
       "\n",
       "    .dataframe thead th {\n",
       "        text-align: right;\n",
       "    }\n",
       "</style>\n",
       "<table border=\"1\" class=\"dataframe\">\n",
       "  <thead>\n",
       "    <tr style=\"text-align: right;\">\n",
       "      <th></th>\n",
       "      <th>100000000</th>\n",
       "      <th>5pm</th>\n",
       "      <th>bring</th>\n",
       "      <th>claim</th>\n",
       "      <th>click</th>\n",
       "      <th>counseled</th>\n",
       "      <th>didn</th>\n",
       "      <th>dwell</th>\n",
       "      <th>email</th>\n",
       "      <th>follow</th>\n",
       "      <th>...</th>\n",
       "      <th>sss</th>\n",
       "      <th>steam</th>\n",
       "      <th>super</th>\n",
       "      <th>swear</th>\n",
       "      <th>symbol</th>\n",
       "      <th>things</th>\n",
       "      <th>tin</th>\n",
       "      <th>umbrellas</th>\n",
       "      <th>wishlist</th>\n",
       "      <th>won</th>\n",
       "    </tr>\n",
       "  </thead>\n",
       "  <tbody>\n",
       "    <tr>\n",
       "      <th>Doc0</th>\n",
       "      <td>0</td>\n",
       "      <td>1</td>\n",
       "      <td>0</td>\n",
       "      <td>0</td>\n",
       "      <td>0</td>\n",
       "      <td>0</td>\n",
       "      <td>0</td>\n",
       "      <td>0</td>\n",
       "      <td>1</td>\n",
       "      <td>1</td>\n",
       "      <td>...</td>\n",
       "      <td>0</td>\n",
       "      <td>0</td>\n",
       "      <td>0</td>\n",
       "      <td>0</td>\n",
       "      <td>0</td>\n",
       "      <td>0</td>\n",
       "      <td>0</td>\n",
       "      <td>0</td>\n",
       "      <td>0</td>\n",
       "      <td>0</td>\n",
       "    </tr>\n",
       "    <tr>\n",
       "      <th>Doc1</th>\n",
       "      <td>0</td>\n",
       "      <td>0</td>\n",
       "      <td>1</td>\n",
       "      <td>0</td>\n",
       "      <td>0</td>\n",
       "      <td>0</td>\n",
       "      <td>0</td>\n",
       "      <td>0</td>\n",
       "      <td>0</td>\n",
       "      <td>0</td>\n",
       "      <td>...</td>\n",
       "      <td>0</td>\n",
       "      <td>0</td>\n",
       "      <td>0</td>\n",
       "      <td>0</td>\n",
       "      <td>0</td>\n",
       "      <td>0</td>\n",
       "      <td>0</td>\n",
       "      <td>1</td>\n",
       "      <td>0</td>\n",
       "      <td>0</td>\n",
       "    </tr>\n",
       "    <tr>\n",
       "      <th>Doc2</th>\n",
       "      <td>0</td>\n",
       "      <td>0</td>\n",
       "      <td>0</td>\n",
       "      <td>0</td>\n",
       "      <td>0</td>\n",
       "      <td>0</td>\n",
       "      <td>0</td>\n",
       "      <td>0</td>\n",
       "      <td>0</td>\n",
       "      <td>0</td>\n",
       "      <td>...</td>\n",
       "      <td>0</td>\n",
       "      <td>0</td>\n",
       "      <td>0</td>\n",
       "      <td>1</td>\n",
       "      <td>0</td>\n",
       "      <td>0</td>\n",
       "      <td>0</td>\n",
       "      <td>0</td>\n",
       "      <td>0</td>\n",
       "      <td>0</td>\n",
       "    </tr>\n",
       "    <tr>\n",
       "      <th>Doc3</th>\n",
       "      <td>1</td>\n",
       "      <td>0</td>\n",
       "      <td>0</td>\n",
       "      <td>1</td>\n",
       "      <td>0</td>\n",
       "      <td>0</td>\n",
       "      <td>0</td>\n",
       "      <td>0</td>\n",
       "      <td>0</td>\n",
       "      <td>0</td>\n",
       "      <td>...</td>\n",
       "      <td>1</td>\n",
       "      <td>0</td>\n",
       "      <td>1</td>\n",
       "      <td>0</td>\n",
       "      <td>0</td>\n",
       "      <td>0</td>\n",
       "      <td>1</td>\n",
       "      <td>0</td>\n",
       "      <td>0</td>\n",
       "      <td>1</td>\n",
       "    </tr>\n",
       "    <tr>\n",
       "      <th>Doc4</th>\n",
       "      <td>0</td>\n",
       "      <td>0</td>\n",
       "      <td>0</td>\n",
       "      <td>0</td>\n",
       "      <td>1</td>\n",
       "      <td>0</td>\n",
       "      <td>0</td>\n",
       "      <td>0</td>\n",
       "      <td>1</td>\n",
       "      <td>0</td>\n",
       "      <td>...</td>\n",
       "      <td>0</td>\n",
       "      <td>1</td>\n",
       "      <td>0</td>\n",
       "      <td>0</td>\n",
       "      <td>0</td>\n",
       "      <td>0</td>\n",
       "      <td>0</td>\n",
       "      <td>0</td>\n",
       "      <td>1</td>\n",
       "      <td>0</td>\n",
       "    </tr>\n",
       "    <tr>\n",
       "      <th>Doc5</th>\n",
       "      <td>0</td>\n",
       "      <td>0</td>\n",
       "      <td>0</td>\n",
       "      <td>0</td>\n",
       "      <td>0</td>\n",
       "      <td>1</td>\n",
       "      <td>1</td>\n",
       "      <td>1</td>\n",
       "      <td>0</td>\n",
       "      <td>0</td>\n",
       "      <td>...</td>\n",
       "      <td>0</td>\n",
       "      <td>0</td>\n",
       "      <td>0</td>\n",
       "      <td>0</td>\n",
       "      <td>0</td>\n",
       "      <td>1</td>\n",
       "      <td>0</td>\n",
       "      <td>0</td>\n",
       "      <td>0</td>\n",
       "      <td>0</td>\n",
       "    </tr>\n",
       "    <tr>\n",
       "      <th>Doc6</th>\n",
       "      <td>0</td>\n",
       "      <td>0</td>\n",
       "      <td>0</td>\n",
       "      <td>0</td>\n",
       "      <td>0</td>\n",
       "      <td>0</td>\n",
       "      <td>0</td>\n",
       "      <td>0</td>\n",
       "      <td>0</td>\n",
       "      <td>0</td>\n",
       "      <td>...</td>\n",
       "      <td>0</td>\n",
       "      <td>0</td>\n",
       "      <td>0</td>\n",
       "      <td>0</td>\n",
       "      <td>1</td>\n",
       "      <td>0</td>\n",
       "      <td>0</td>\n",
       "      <td>0</td>\n",
       "      <td>0</td>\n",
       "      <td>0</td>\n",
       "    </tr>\n",
       "  </tbody>\n",
       "</table>\n",
       "<p>7 rows × 46 columns</p>\n",
       "</div>"
      ],
      "text/plain": [
       "      100000000  5pm  bring  claim  click  counseled  didn  dwell  email  \\\n",
       "Doc0          0    1      0      0      0          0     0      0      1   \n",
       "Doc1          0    0      1      0      0          0     0      0      0   \n",
       "Doc2          0    0      0      0      0          0     0      0      0   \n",
       "Doc3          1    0      0      1      0          0     0      0      0   \n",
       "Doc4          0    0      0      0      1          0     0      0      1   \n",
       "Doc5          0    0      0      0      0          1     1      1      0   \n",
       "Doc6          0    0      0      0      0          0     0      0      0   \n",
       "\n",
       "      follow ...   sss  steam  super  swear  symbol  things  tin  umbrellas  \\\n",
       "Doc0       1 ...     0      0      0      0       0       0    0          0   \n",
       "Doc1       0 ...     0      0      0      0       0       0    0          1   \n",
       "Doc2       0 ...     0      0      0      1       0       0    0          0   \n",
       "Doc3       0 ...     1      0      1      0       0       0    1          0   \n",
       "Doc4       0 ...     0      1      0      0       0       0    0          0   \n",
       "Doc5       0 ...     0      0      0      0       0       1    0          0   \n",
       "Doc6       0 ...     0      0      0      0       1       0    0          0   \n",
       "\n",
       "      wishlist  won  \n",
       "Doc0         0    0  \n",
       "Doc1         0    0  \n",
       "Doc2         0    0  \n",
       "Doc3         0    1  \n",
       "Doc4         1    0  \n",
       "Doc5         0    0  \n",
       "Doc6         0    0  \n",
       "\n",
       "[7 rows x 46 columns]"
      ]
     },
     "execution_count": 93,
     "metadata": {},
     "output_type": "execute_result"
    }
   ],
   "source": [
    "# retrieve the terms found in the corpora\n",
    "tokens = vectorizer.get_feature_names()\n",
    "\n",
    "# create a dataframe from the matrix\n",
    "bag2df(bag_of_words, tokens)"
   ]
  },
  {
   "cell_type": "code",
   "execution_count": 80,
   "metadata": {},
   "outputs": [],
   "source": [
    "tfidf_vec = TfidfVectorizer(stop_words=\"english\")\n",
    "transformed = tfidf_vec.fit_transform(email_list)"
   ]
  },
  {
   "cell_type": "code",
   "execution_count": 81,
   "metadata": {},
   "outputs": [],
   "source": [
    "index_value={i[1]:i[0] for i in tfidf_vec.vocabulary_.items()}\n",
    "fully_indexed = []\n",
    "for row in transformed:\n",
    "    fully_indexed.append({index_value[column]:value for (column,value) in zip(row.indices,row.data)})"
   ]
  },
  {
   "cell_type": "code",
   "execution_count": 114,
   "metadata": {},
   "outputs": [
    {
     "data": {
      "text/plain": [
       "{11: 'hi',\n",
       " 16: 'like',\n",
       " 9: 'follow',\n",
       " 29: 'project',\n",
       " 30: 'proposal',\n",
       " 1: '5pm',\n",
       " 15: 'later',\n",
       " 8: 'email',\n",
       " 31: 'raining',\n",
       " 22: 'metro',\n",
       " 21: 'manila',\n",
       " 23: 'need',\n",
       " 2: 'bring',\n",
       " 43: 'umbrellas',\n",
       " 19: 'll',\n",
       " 10: 'good',\n",
       " 28: 'prepared',\n",
       " 35: 'solemnly',\n",
       " 39: 'swear',\n",
       " 45: 'won',\n",
       " 26: 'php',\n",
       " 0: '100000000',\n",
       " 38: 'super',\n",
       " 20: 'lotto',\n",
       " 36: 'sss',\n",
       " 12: 'id',\n",
       " 42: 'tin',\n",
       " 13: 'information',\n",
       " 3: 'claim',\n",
       " 14: 'items',\n",
       " 37: 'steam',\n",
       " 44: 'wishlist',\n",
       " 32: 'sale',\n",
       " 4: 'click',\n",
       " 17: 'link',\n",
       " 5: 'counseled',\n",
       " 7: 'dwell',\n",
       " 41: 'things',\n",
       " 6: 'didn',\n",
       " 27: 'praying',\n",
       " 40: 'symbol',\n",
       " 24: 'peace',\n",
       " 33: 'saves',\n",
       " 25: 'people',\n",
       " 18: 'lives',\n",
       " 34: 'smile'}"
      ]
     },
     "execution_count": 114,
     "metadata": {},
     "output_type": "execute_result"
    }
   ],
   "source": [
    "index_value"
   ]
  },
  {
   "cell_type": "code",
   "execution_count": 113,
   "metadata": {},
   "outputs": [
    {
     "data": {
      "text/plain": [
       "dict_items([('hi', 11), ('like', 16), ('follow', 9), ('project', 29), ('proposal', 30), ('5pm', 1), ('later', 15), ('email', 8), ('raining', 31), ('metro', 22), ('manila', 21), ('need', 23), ('bring', 2), ('umbrellas', 43), ('ll', 19), ('good', 10), ('prepared', 28), ('solemnly', 35), ('swear', 39), ('won', 45), ('php', 26), ('100000000', 0), ('super', 38), ('lotto', 20), ('sss', 36), ('id', 12), ('tin', 42), ('information', 13), ('claim', 3), ('items', 14), ('steam', 37), ('wishlist', 44), ('sale', 32), ('click', 4), ('link', 17), ('counseled', 5), ('dwell', 7), ('things', 41), ('didn', 6), ('praying', 27), ('symbol', 40), ('peace', 24), ('saves', 33), ('people', 25), ('lives', 18), ('smile', 34)])"
      ]
     },
     "execution_count": 113,
     "metadata": {},
     "output_type": "execute_result"
    }
   ],
   "source": [
    "tfidf_vec.vocabulary_.items()"
   ]
  },
  {
   "cell_type": "code",
   "execution_count": 103,
   "metadata": {},
   "outputs": [
    {
     "data": {
      "text/plain": [
       "[(11, 0.3606316736641664),\n",
       " (16, 0.3606316736641664),\n",
       " (9, 0.3606316736641664),\n",
       " (29, 0.3606316736641664),\n",
       " (30, 0.3606316736641664),\n",
       " (1, 0.3606316736641664),\n",
       " (15, 0.3606316736641664),\n",
       " (8, 0.29935525993587564),\n",
       " (31, 0.3392454547140992),\n",
       " (22, 0.3392454547140992),\n",
       " (21, 0.3392454547140992),\n",
       " (23, 0.3392454547140992),\n",
       " (2, 0.3392454547140992),\n",
       " (43, 0.3392454547140992),\n",
       " (19, 0.3392454547140992),\n",
       " (10, 0.2816028615738706),\n",
       " (28, 0.3392454547140992),\n",
       " (10, 0.5062023856012858),\n",
       " (35, 0.6098192948782316),\n",
       " (39, 0.6098192948782316),\n",
       " (45, 0.31622776601683794),\n",
       " (26, 0.31622776601683794),\n",
       " (0, 0.31622776601683794),\n",
       " (38, 0.31622776601683794),\n",
       " (20, 0.31622776601683794),\n",
       " (36, 0.31622776601683794),\n",
       " (12, 0.31622776601683794),\n",
       " (42, 0.31622776601683794),\n",
       " (13, 0.31622776601683794),\n",
       " (3, 0.31622776601683794),\n",
       " (8, 0.32095270940344806),\n",
       " (14, 0.386650005027498),\n",
       " (37, 0.386650005027498),\n",
       " (44, 0.386650005027498),\n",
       " (32, 0.386650005027498),\n",
       " (4, 0.386650005027498),\n",
       " (17, 0.386650005027498),\n",
       " (5, 0.4472135954999579),\n",
       " (7, 0.4472135954999579),\n",
       " (41, 0.4472135954999579),\n",
       " (6, 0.4472135954999579),\n",
       " (27, 0.4472135954999579),\n",
       " (40, 0.408248290463863),\n",
       " (24, 0.408248290463863),\n",
       " (33, 0.408248290463863),\n",
       " (25, 0.408248290463863),\n",
       " (18, 0.408248290463863),\n",
       " (34, 0.408248290463863)]"
      ]
     },
     "execution_count": 103,
     "metadata": {},
     "output_type": "execute_result"
    }
   ],
   "source": [
    "list(zip(transformed.indices, transformed.data))"
   ]
  },
  {
   "cell_type": "code",
   "execution_count": 85,
   "metadata": {},
   "outputs": [
    {
     "data": {
      "text/plain": [
       "[{'hi': 0.3606316736641664,\n",
       "  'like': 0.3606316736641664,\n",
       "  'follow': 0.3606316736641664,\n",
       "  'project': 0.3606316736641664,\n",
       "  'proposal': 0.3606316736641664,\n",
       "  '5pm': 0.3606316736641664,\n",
       "  'later': 0.3606316736641664,\n",
       "  'email': 0.29935525993587564},\n",
       " {'raining': 0.3392454547140992,\n",
       "  'metro': 0.3392454547140992,\n",
       "  'manila': 0.3392454547140992,\n",
       "  'need': 0.3392454547140992,\n",
       "  'bring': 0.3392454547140992,\n",
       "  'umbrellas': 0.3392454547140992,\n",
       "  'll': 0.3392454547140992,\n",
       "  'good': 0.2816028615738706,\n",
       "  'prepared': 0.3392454547140992},\n",
       " {'good': 0.5062023856012858,\n",
       "  'solemnly': 0.6098192948782316,\n",
       "  'swear': 0.6098192948782316},\n",
       " {'won': 0.31622776601683794,\n",
       "  'php': 0.31622776601683794,\n",
       "  '100000000': 0.31622776601683794,\n",
       "  'super': 0.31622776601683794,\n",
       "  'lotto': 0.31622776601683794,\n",
       "  'sss': 0.31622776601683794,\n",
       "  'id': 0.31622776601683794,\n",
       "  'tin': 0.31622776601683794,\n",
       "  'information': 0.31622776601683794,\n",
       "  'claim': 0.31622776601683794},\n",
       " {'email': 0.32095270940344806,\n",
       "  'items': 0.386650005027498,\n",
       "  'steam': 0.386650005027498,\n",
       "  'wishlist': 0.386650005027498,\n",
       "  'sale': 0.386650005027498,\n",
       "  'click': 0.386650005027498,\n",
       "  'link': 0.386650005027498},\n",
       " {'counseled': 0.4472135954999579,\n",
       "  'dwell': 0.4472135954999579,\n",
       "  'things': 0.4472135954999579,\n",
       "  'didn': 0.4472135954999579,\n",
       "  'praying': 0.4472135954999579},\n",
       " {'symbol': 0.408248290463863,\n",
       "  'peace': 0.408248290463863,\n",
       "  'saves': 0.408248290463863,\n",
       "  'people': 0.408248290463863,\n",
       "  'lives': 0.408248290463863,\n",
       "  'smile': 0.408248290463863}]"
      ]
     },
     "execution_count": 85,
     "metadata": {},
     "output_type": "execute_result"
    }
   ],
   "source": [
    "fully_indexed"
   ]
  },
  {
   "cell_type": "code",
   "execution_count": 111,
   "metadata": {},
   "outputs": [],
   "source": [
    "somelist = []\n",
    "l = \"my string is nice\".split()\n",
    "for x in l:\n",
    "    somelist.append({l.index(x) : x})"
   ]
  },
  {
   "cell_type": "code",
   "execution_count": 112,
   "metadata": {},
   "outputs": [
    {
     "data": {
      "text/plain": [
       "[{0: 'my'}, {1: 'string'}, {2: 'is'}, {3: 'nice'}]"
      ]
     },
     "execution_count": 112,
     "metadata": {},
     "output_type": "execute_result"
    }
   ],
   "source": [
    "somelist"
   ]
  },
  {
   "cell_type": "code",
   "execution_count": null,
   "metadata": {},
   "outputs": [],
   "source": [
    "for email in email_list:\n",
    "    email_dict_list = {\"subject\" : email.sub(), \"body\": email.body(), \"status\" : email.status()}"
   ]
  }
 ],
 "metadata": {
  "kernelspec": {
   "display_name": "Python 3",
   "language": "python",
   "name": "python3"
  },
  "language_info": {
   "codemirror_mode": {
    "name": "ipython",
    "version": 3
   },
   "file_extension": ".py",
   "mimetype": "text/x-python",
   "name": "python",
   "nbconvert_exporter": "python",
   "pygments_lexer": "ipython3",
   "version": "3.6.5"
  }
 },
 "nbformat": 4,
 "nbformat_minor": 2
}
